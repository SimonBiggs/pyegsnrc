{
 "cells": [
  {
   "cell_type": "code",
   "execution_count": 1,
   "metadata": {},
   "outputs": [],
   "source": [
    "import re\n",
    "import pathlib\n",
    "import io\n",
    "\n",
    "import numpy as np\n",
    "import pandas as pd"
   ]
  },
  {
   "cell_type": "code",
   "execution_count": 2,
   "metadata": {},
   "outputs": [],
   "source": [
    "interaction_map = {\n",
    "    'compton': 'compton-scattering',\n",
    "    'pair': 'pair-production',\n",
    "    'photo': 'photoelectric',\n",
    "    'rayleigh': 'rayleigh-scattering',\n",
    "    'triplet': 'triplet-production'\n",
    "}"
   ]
  },
  {
   "cell_type": "code",
   "execution_count": 3,
   "metadata": {},
   "outputs": [],
   "source": [
    "new_data_directory = pathlib.Path('../pyegsnrc/data/xcom')\n",
    "new_data_directory.mkdir(exist_ok=True, parents=True)"
   ]
  },
  {
   "cell_type": "code",
   "execution_count": 4,
   "metadata": {},
   "outputs": [
    {
     "data": {
      "text/plain": [
       "PosixPath('xcom/xcom_compton.data')"
      ]
     },
     "execution_count": 4,
     "metadata": {},
     "output_type": "execute_result"
    }
   ],
   "source": [
    "file_options = list(pathlib.Path('xcom').glob('*.data'))\n",
    "xcom_filepath = file_options[1]\n",
    "xcom_filepath"
   ]
  },
  {
   "cell_type": "code",
   "execution_count": 5,
   "metadata": {},
   "outputs": [],
   "source": [
    "interaction_name = interaction_map[str(xcom_filepath).split('_')[-1].split('.')[0]]\n",
    "csv_filepath = new_data_directory.joinpath(f\"{interaction_name}.csv\")\n",
    "\n",
    "with open(xcom_filepath) as f:\n",
    "    raw_data = f.readlines()"
   ]
  },
  {
   "cell_type": "code",
   "execution_count": 6,
   "metadata": {},
   "outputs": [
    {
     "data": {
      "text/plain": [
       "array([   0,   39,   78,  117,  156,  195,  234,  273,  312,  351,  390,\n",
       "        429,  468,  507,  546,  585,  624,  663,  702,  741,  780,  819,\n",
       "        858,  897,  936,  975, 1014, 1053, 1092, 1131, 1170, 1209, 1248,\n",
       "       1287, 1326, 1365, 1404, 1443, 1482, 1521, 1560, 1599, 1638, 1677,\n",
       "       1716, 1755, 1794, 1833, 1872, 1911, 1950, 1989, 2028, 2067, 2106,\n",
       "       2145, 2184, 2223, 2262, 2301, 2340, 2379, 2418, 2457, 2496, 2535,\n",
       "       2574, 2613, 2652, 2691, 2730, 2769, 2808, 2847, 2886, 2925, 2964,\n",
       "       3003, 3042, 3081, 3120, 3159, 3198, 3237, 3276, 3315, 3354, 3393,\n",
       "       3432, 3471, 3510, 3549, 3588, 3627, 3666, 3705, 3744, 3783, 3822,\n",
       "       3861])"
      ]
     },
     "execution_count": 6,
     "metadata": {},
     "output_type": "execute_result"
    }
   ],
   "source": [
    "single_integer_pattern = re.compile(r'^\\s*\\d+$')\n",
    "\n",
    "row_with_single_integer = [\n",
    "    bool(single_integer_pattern.match(item))\n",
    "    for item in raw_data\n",
    "]\n",
    "single_integer_indices = np.where(row_with_single_integer)[0]\n",
    "\n",
    "single_integer_indices"
   ]
  },
  {
   "cell_type": "code",
   "execution_count": 7,
   "metadata": {},
   "outputs": [],
   "source": [
    "lower_data_bounds_inclusive = single_integer_indices + 1\n",
    "upper_data_bounds_non_inclusive = list(lower_data_bounds_inclusive[1::]-1) + [len(raw_data)]\n",
    "\n",
    "raw_data_by_z = [\n",
    "    raw_data[lower:upper]\n",
    "    for lower, upper \n",
    "    in zip(lower_data_bounds_inclusive, upper_data_bounds_non_inclusive)\n",
    "]\n",
    "\n",
    "# raw_data_by_z"
   ]
  },
  {
   "cell_type": "code",
   "execution_count": 8,
   "metadata": {},
   "outputs": [],
   "source": [
    "# raw_data"
   ]
  },
  {
   "cell_type": "code",
   "execution_count": 9,
   "metadata": {},
   "outputs": [],
   "source": [
    "def get_mev_and_barn_from_raw_z_data(raw_z_data):\n",
    "    data_as_string = ' '.join(raw_z_data).replace('\\n', '').strip()\n",
    "    data_as_list = re.split(r'\\s+', data_as_string)\n",
    "    data_as_array = np.array(data_as_list).astype(float)\n",
    "    \n",
    "    mev = np.exp(data_as_array[0::2])\n",
    "    barn = np.exp(data_as_array[1::2])\n",
    "    \n",
    "    return mev, barn"
   ]
  },
  {
   "cell_type": "code",
   "execution_count": 10,
   "metadata": {},
   "outputs": [
    {
     "data": {
      "text/plain": [
       "(100, 2, 150)"
      ]
     },
     "execution_count": 10,
     "metadata": {},
     "output_type": "execute_result"
    }
   ],
   "source": [
    "data = np.array([\n",
    "    get_mev_and_barn_from_raw_z_data(item)\n",
    "    for item in raw_data_by_z\n",
    "])\n",
    "\n",
    "data.shape"
   ]
  },
  {
   "cell_type": "code",
   "execution_count": 11,
   "metadata": {},
   "outputs": [],
   "source": [
    "assert np.all(data[:, 0, :] == data[0, 0, :])\n",
    "mev = data[0, 0, :]\n",
    "\n",
    "data_without_mev = data[:,1,:]\n",
    "table = pd.DataFrame(data_without_mev, )\n",
    "\n",
    "table.index = np.arange(1,101)\n",
    "table.columns = mev"
   ]
  },
  {
   "cell_type": "code",
   "execution_count": 12,
   "metadata": {},
   "outputs": [],
   "source": [
    "# original file units, log(MeV) vs log(barn)"
   ]
  },
  {
   "cell_type": "code",
   "execution_count": 13,
   "metadata": {},
   "outputs": [],
   "source": [
    "# output units, MeV, and barn"
   ]
  },
  {
   "cell_type": "code",
   "execution_count": 14,
   "metadata": {},
   "outputs": [],
   "source": [
    "\n",
    "\n",
    "table.to_csv(csv_filepath)"
   ]
  },
  {
   "cell_type": "code",
   "execution_count": null,
   "metadata": {},
   "outputs": [],
   "source": []
  },
  {
   "cell_type": "code",
   "execution_count": null,
   "metadata": {},
   "outputs": [],
   "source": []
  }
 ],
 "metadata": {
  "kernelspec": {
   "display_name": "Python 3",
   "language": "python",
   "name": "python3"
  },
  "language_info": {
   "codemirror_mode": {
    "name": "ipython",
    "version": 3
   },
   "file_extension": ".py",
   "mimetype": "text/x-python",
   "name": "python",
   "nbconvert_exporter": "python",
   "pygments_lexer": "ipython3",
   "version": "3.8.6"
  }
 },
 "nbformat": 4,
 "nbformat_minor": 4
}
