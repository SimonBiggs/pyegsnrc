{
 "cells": [
  {
   "cell_type": "code",
   "execution_count": null,
   "metadata": {},
   "outputs": [],
   "source": [
    "import re\n",
    "import pathlib\n",
    "import io\n",
    "\n",
    "import numpy as np\n",
    "import pandas as pd"
   ]
  },
  {
   "cell_type": "code",
   "execution_count": null,
   "metadata": {},
   "outputs": [],
   "source": [
    "interaction_map = {\n",
    "    'compton': 'compton-scattering',\n",
    "    'pair': 'pair-production',\n",
    "    'photo': 'photoelectric',\n",
    "    'rayleigh': 'rayleigh-scattering',\n",
    "    'triplet': 'triplet-production'\n",
    "}"
   ]
  },
  {
   "cell_type": "code",
   "execution_count": null,
   "metadata": {},
   "outputs": [],
   "source": [
    "new_data_directory = pathlib.Path('../pyegsnrc/data/xcom')\n",
    "new_data_directory.mkdir(exist_ok=True, parents=True)"
   ]
  },
  {
   "cell_type": "code",
   "execution_count": null,
   "metadata": {},
   "outputs": [],
   "source": [
    "file_options = list(pathlib.Path('xcom').glob('*.data'))\n",
    "xcom_filepath = file_options[1]\n",
    "xcom_filepath"
   ]
  },
  {
   "cell_type": "code",
   "execution_count": null,
   "metadata": {},
   "outputs": [],
   "source": [
    "interaction_name = interaction_map[str(xcom_filepath).split('_')[-1].split('.')[0]]\n",
    "csv_filepath = new_data_directory.joinpath(f\"{interaction_name}.csv\")\n",
    "\n",
    "with open(xcom_filepath) as f:\n",
    "    raw_data = f.readlines()"
   ]
  },
  {
   "cell_type": "code",
   "execution_count": null,
   "metadata": {},
   "outputs": [],
   "source": [
    "single_integer_pattern = re.compile(r'^\\s*\\d+$')\n",
    "\n",
    "row_with_single_integer = [\n",
    "    bool(single_integer_pattern.match(item))\n",
    "    for item in raw_data\n",
    "]\n",
    "single_integer_indices = np.where(row_with_single_integer)[0]\n",
    "\n",
    "single_integer_indices"
   ]
  },
  {
   "cell_type": "code",
   "execution_count": null,
   "metadata": {},
   "outputs": [],
   "source": [
    "lower_data_bounds_inclusive = single_integer_indices + 1\n",
    "upper_data_bounds_non_inclusive = list(lower_data_bounds_inclusive[1::]-1) + [len(raw_data)]\n",
    "\n",
    "raw_data_by_z = [\n",
    "    raw_data[lower:upper]\n",
    "    for lower, upper \n",
    "    in zip(lower_data_bounds_inclusive, upper_data_bounds_non_inclusive)\n",
    "]\n",
    "\n",
    "# raw_data_by_z"
   ]
  },
  {
   "cell_type": "code",
   "execution_count": null,
   "metadata": {},
   "outputs": [],
   "source": [
    "# raw_data"
   ]
  },
  {
   "cell_type": "code",
   "execution_count": null,
   "metadata": {},
   "outputs": [],
   "source": [
    "def get_mev_and_barn_from_raw_z_data(raw_z_data):\n",
    "    data_as_string = ' '.join(raw_z_data).replace('\\n', '').strip()\n",
    "    data_as_list = re.split(r'\\s+', data_as_string)\n",
    "    data_as_array = np.array(data_as_list).astype(float)\n",
    "    \n",
    "    mev = np.exp(data_as_array[0::2])\n",
    "    barn = np.exp(data_as_array[1::2])\n",
    "    \n",
    "    return mev, barn"
   ]
  },
  {
   "cell_type": "code",
   "execution_count": null,
   "metadata": {},
   "outputs": [],
   "source": [
    "data = np.array([\n",
    "    get_mev_and_barn_from_raw_z_data(item)\n",
    "    for item in raw_data_by_z\n",
    "])\n",
    "\n",
    "data.shape"
   ]
  },
  {
   "cell_type": "code",
   "execution_count": null,
   "metadata": {},
   "outputs": [],
   "source": [
    "assert np.all(data[:, 0, :] == data[0, 0, :])\n",
    "mev = data[0, 0, :]\n",
    "\n",
    "data_without_mev = data[:,1,:]\n",
    "table = pd.DataFrame(data_without_mev, )\n",
    "\n",
    "table.index = np.arange(1,101)\n",
    "table.columns = mev"
   ]
  },
  {
   "cell_type": "code",
   "execution_count": null,
   "metadata": {},
   "outputs": [],
   "source": [
    "# original file units, log(MeV) vs log(barn)"
   ]
  },
  {
   "cell_type": "code",
   "execution_count": null,
   "metadata": {},
   "outputs": [],
   "source": [
    "# output units, MeV, and barn"
   ]
  },
  {
   "cell_type": "code",
   "execution_count": null,
   "metadata": {},
   "outputs": [],
   "source": [
    "\n",
    "\n",
    "table.to_csv(csv_filepath)"
   ]
  },
  {
   "cell_type": "code",
   "execution_count": null,
   "metadata": {},
   "outputs": [],
   "source": []
  },
  {
   "cell_type": "code",
   "execution_count": null,
   "metadata": {},
   "outputs": [],
   "source": []
  }
 ],
 "metadata": {
  "kernelspec": {
   "display_name": "Python 3",
   "language": "python",
   "name": "python3"
  },
  "language_info": {
   "codemirror_mode": {
    "name": "ipython",
    "version": 3
   },
   "file_extension": ".py",
   "mimetype": "text/x-python",
   "name": "python",
   "nbconvert_exporter": "python",
   "pygments_lexer": "ipython3",
   "version": "3.8.6"
  }
 },
 "nbformat": 4,
 "nbformat_minor": 4
}
