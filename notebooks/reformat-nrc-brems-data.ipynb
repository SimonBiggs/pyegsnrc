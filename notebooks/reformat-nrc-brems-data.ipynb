{
 "cells": [
  {
   "cell_type": "code",
   "execution_count": null,
   "metadata": {},
   "outputs": [],
   "source": [
    "import pathlib\n",
    "import io\n",
    "\n",
    "import numpy as np\n",
    "import pandas as pd"
   ]
  },
  {
   "cell_type": "code",
   "execution_count": null,
   "metadata": {},
   "outputs": [],
   "source": [
    "egsnrc_copyright_header = \"\"\"\\\n",
    "# Copyright (C) 2015 National Research Council Canada\n",
    "# \n",
    "# This file is part of EGSnrc.\n",
    "# \n",
    "# EGSnrc is free software: you can redistribute it and/or modify it under\n",
    "# the terms of the GNU Affero General Public License as published by the\n",
    "# Free Software Foundation, either version 3 of the License, or (at your\n",
    "# option) any later version.\n",
    "# \n",
    "# EGSnrc is distributed in the hope that it will be useful, but WITHOUT ANY\n",
    "# WARRANTY; without even the implied warranty of MERCHANTABILITY or FITNESS\n",
    "# FOR A PARTICULAR PURPOSE.  See the GNU Affero General Public License for \n",
    "# more details.\n",
    "# \n",
    "# You should have received a copy of the GNU Affero General Public License \n",
    "# along with EGSnrc. If not, see <http://www.gnu.org/licenses/>.\n",
    "\"\"\""
   ]
  },
  {
   "cell_type": "code",
   "execution_count": null,
   "metadata": {},
   "outputs": [],
   "source": [
    "header_description = \"\"\"\\\n",
    "# ------------------------------\n",
    "# CSV file description goes here\n",
    "# ------------------------------\n",
    "\"\"\""
   ]
  },
  {
   "cell_type": "code",
   "execution_count": null,
   "metadata": {},
   "outputs": [],
   "source": [
    "new_data_directory = pathlib.Path('../pyegsnrc/data/bremsstrahlung')\n",
    "new_data_directory.mkdir(exist_ok = True)"
   ]
  },
  {
   "cell_type": "code",
   "execution_count": null,
   "metadata": {},
   "outputs": [],
   "source": [
    "filename = 'nrc_brems.data'\n",
    "with open(filename) as f:\n",
    "    raw_data = f.readlines()"
   ]
  },
  {
   "cell_type": "code",
   "execution_count": null,
   "metadata": {},
   "outputs": [],
   "source": [
    "columns = np.array(raw_data[2].split(' ')).astype(float)\n",
    "columns"
   ]
  },
  {
   "cell_type": "code",
   "execution_count": null,
   "metadata": {},
   "outputs": [],
   "source": [
    "index = np.array(raw_data[3].split(' ')).astype(float)\n",
    "index"
   ]
  },
  {
   "cell_type": "code",
   "execution_count": null,
   "metadata": {},
   "outputs": [],
   "source": []
  },
  {
   "cell_type": "code",
   "execution_count": null,
   "metadata": {},
   "outputs": [],
   "source": [
    "table = pd.read_csv(filename, delimiter=\" \", skiprows=5, header=None)\n",
    "table.columns = columns\n",
    "table"
   ]
  },
  {
   "cell_type": "code",
   "execution_count": null,
   "metadata": {},
   "outputs": [],
   "source": []
  },
  {
   "cell_type": "code",
   "execution_count": null,
   "metadata": {},
   "outputs": [],
   "source": [
    "z_based_tables = []\n",
    "for i in range(100):\n",
    "    z_based_table = table.iloc[i*len(index):(i+1)*len(index)]\n",
    "    z_based_table.index = index\n",
    "    \n",
    "    z_based_tables.append(z_based_table)"
   ]
  },
  {
   "cell_type": "code",
   "execution_count": null,
   "metadata": {},
   "outputs": [],
   "source": [
    "# z_based_tables[3]"
   ]
  },
  {
   "cell_type": "code",
   "execution_count": null,
   "metadata": {},
   "outputs": [],
   "source": [
    "for i, z_based_table in enumerate(z_based_tables):\n",
    "    new_filepath = new_data_directory.joinpath(f\"Z{str(i+1).zfill(3)}.csv\")\n",
    "    z_based_table.to_csv(new_filepath)\n",
    "    \n",
    "    \n",
    "#     temp_file = io.StringIO()\n",
    "#     z_based_table.to_csv(temp_file)\n",
    "    \n",
    "#     z_based_table.to_csv(temp_file)\n",
    "#     temp_file.seek(0,0)\n",
    "#     plain_csv = temp_file.read()\n",
    "# #     csv_with_header = f\"{egsnrc_copyright_header}{header_description}{plain_csv}\"\n",
    "#     csv_with_header = plain_csv  # Don't add a header in, standard CSV readers can't read it any longer\n",
    "    \n",
    "#     with open(new_filepath, 'w') as out_file:\n",
    "#         out_file.write(csv_with_header)"
   ]
  },
  {
   "cell_type": "code",
   "execution_count": null,
   "metadata": {},
   "outputs": [],
   "source": []
  }
 ],
 "metadata": {
  "kernelspec": {
   "display_name": "Python 3",
   "language": "python",
   "name": "python3"
  },
  "language_info": {
   "codemirror_mode": {
    "name": "ipython",
    "version": 3
   },
   "file_extension": ".py",
   "mimetype": "text/x-python",
   "name": "python",
   "nbconvert_exporter": "python",
   "pygments_lexer": "ipython3",
   "version": "3.8.6"
  }
 },
 "nbformat": 4,
 "nbformat_minor": 4
}
